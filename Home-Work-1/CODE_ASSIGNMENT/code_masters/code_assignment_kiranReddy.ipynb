{
 "cells": [
  {
   "cell_type": "code",
   "execution_count": 50,
   "metadata": {
    "id": "0gFJNxnhpZoc"
   },
   "outputs": [],
   "source": [
    "import random\n",
    "import numpy as np\n",
    "from data_process import get_CIFAR10_data\n",
    "%matplotlib inline\n",
    "from save_submission import output_submission_csv"
   ]
  },
  {
   "cell_type": "markdown",
   "metadata": {
    "id": "NFpMITkVpZof"
   },
   "source": [
    "# Loading CIFAR-10"
   ]
  },
  {
   "cell_type": "markdown",
   "metadata": {
    "id": "KQhLz6_ypZoh"
   },
   "source": [
    "In the following cells we determine the number of images for each split and load the images.\n",
    "<br /> \n",
    "TRAIN_IMAGES + VAL_IMAGES = (0, 50000]\n",
    ", TEST_IMAGES = 10000"
   ]
  },
  {
   "cell_type": "code",
   "execution_count": 51,
   "metadata": {
    "id": "EdJkhInTpZoh"
   },
   "outputs": [],
   "source": [
    "# You can change these numbers for experimentation\n",
    "# For submission we will use the default values \n",
    "TRAIN_IMAGES = 40000\n",
    "VAL_IMAGES = 10000"
   ]
  },
  {
   "cell_type": "code",
   "execution_count": 52,
   "metadata": {
    "id": "lYxkvXIrpZoi"
   },
   "outputs": [],
   "source": [
    "data = get_CIFAR10_data(TRAIN_IMAGES, VAL_IMAGES)\n",
    "X_train_CIFAR, y_train_CIFAR = data['X_train'], data['y_train']\n",
    "X_val_CIFAR, y_val_CIFAR = data['X_val'], data['y_val']\n",
    "X_test_CIFAR, y_test_CIFAR = data['X_test'], data['y_test']\n",
    "n_class_CIFAR = len(np.unique(y_test_CIFAR))"
   ]
  },
  {
   "cell_type": "markdown",
   "metadata": {
    "id": "8paIOoaBpZoi"
   },
   "source": [
    "Convert the sets of images from dimensions of **(N, 3, 32, 32) -> (N, 3072)** where N is the number of images so that each **3x32x32** image is represented by a single vector."
   ]
  },
  {
   "cell_type": "code",
   "execution_count": 53,
   "metadata": {
    "id": "hsgufbOhpZoj"
   },
   "outputs": [],
   "source": [
    "X_train_CIFAR = np.reshape(X_train_CIFAR, (X_train_CIFAR.shape[0], -1))\n",
    "X_val_CIFAR = np.reshape(X_val_CIFAR, (X_val_CIFAR.shape[0], -1))\n",
    "X_test_CIFAR = np.reshape(X_test_CIFAR, (X_test_CIFAR.shape[0], -1))"
   ]
  },
  {
   "cell_type": "markdown",
   "metadata": {
    "id": "r91wHO51pZoj"
   },
   "source": [
    "# Get Accuracy\n",
    "This function computes how well your model performs using accuracy as a metric.\n"
   ]
  },
  {
   "cell_type": "code",
   "execution_count": 54,
   "metadata": {
    "id": "qDRrRQAlpZok"
   },
   "outputs": [],
   "source": [
    "def get_acc(pred, y_test):\n",
    "    return np.sum(y_test==pred)/len(y_test)*100"
   ]
  },
  {
   "cell_type": "markdown",
   "metadata": {
    "id": "FjEyGAXrpZol"
   },
   "source": [
    "# Perceptron"
   ]
  },
  {
   "cell_type": "markdown",
   "metadata": {
    "id": "2i4BlNEwpZol"
   },
   "source": [
    "Perceptron has 2 hyperparameters that you can experiment with:\n",
    "- **Learning rate** - controls how much we change the current weights of the classifier during each update. We set it at a default value of 0.5, but you should experiment with different values. We recommend changing the learning rate by factors of 10 and observing how the performance of the classifier changes. You should also try adding a **decay** which slowly reduces the learning rate over each epoch.\n",
    "- **Number of Epochs** - An epoch is a complete iterative pass over all of the data in the dataset. During an epoch we predict a label using the classifier and then update the weights of the classifier according the perceptron update rule for each sample in the training set. You should try different values for the number of training epochs and report your results."
   ]
  },
  {
   "cell_type": "markdown",
   "metadata": {
    "id": "MCB44zoIpZom"
   },
   "source": [
    "\n",
    "The following code: \n",
    "- Creates an instance of the Perceptron classifier class \n",
    "- The train function of the Perceptron class is trained on the training data\n",
    "- We use the predict function to find the training accuracy as well as the testing accuracy\n"
   ]
  },
  {
   "cell_type": "markdown",
   "metadata": {
    "id": "0pQMfcXvpZom"
   },
   "source": [
    "# Model Perceptron"
   ]
  },
  {
   "cell_type": "code",
   "execution_count": 55,
   "metadata": {
    "id": "xHFooAwLpZom"
   },
   "outputs": [],
   "source": [
    "import numpy as np\n",
    "\n",
    "\n",
    "class Perceptron:\n",
    "    def __init__(self, n_class: int, lr: float, epochs: int):\n",
    "        \"\"\"Initialize a new classifier.\n",
    "        Parameters:\n",
    "            n_class: the number of classes\n",
    "            lr: the learning rate\n",
    "            epochs: the number of epochs to train for\n",
    "        \"\"\"\n",
    "        self.w = None\n",
    "        self.lr = lr\n",
    "        self.epochs = epochs\n",
    "        self.n_class = n_class\n",
    "        self.bias=None\n",
    "        self.activation_func=self._unit_step_func\n",
    "\n",
    "\n",
    "    def train(self, X_train: np.ndarray, y_train: np.ndarray):\n",
    "        \"\"\"Train the classifier.\n",
    "        Use the perceptron update rule as introduced in Lecture 3.\n",
    "        Parameters:\n",
    "            X_train: a number array of shape (N, D) containing training data;\n",
    "                N examples with D dimensions\n",
    "            y_train: a numpy array of shape (N,) containing training labels\n",
    "        \"\"\"\n",
    "        N, D = X_train.shape\n",
    "        self.w = np.random.randn(self.n_class, D)\n",
    "        self.bias=0\n",
    "        ###### YOUR CODE STARTS HERE ######\n",
    "        y_=np.array([1 if i>0 else 0 for i in y_train])\n",
    "        for _ in range(self.n_iters):\n",
    "            for idx, x_i in enumerate(X_train):\n",
    "                l_o=np.dot(x_i, self.w)+self.bias\n",
    "                y_predicted=self.activation_func(l_o)\n",
    "                update=self.lr*(y_[idx]-y_predicted)\n",
    "                self.weights+=update+x_i\n",
    "                self.bias+=update\n",
    "        ###### YOUR CODE ENDS HERE ######\n",
    "\n",
    "    def predict(self, X_test: np.ndarray) -> np.ndarray:\n",
    "        \"\"\"Use the trained weights to predict labels for test data points.\n",
    "        Parameters:\n",
    "            X_test: a numpy array of shape (N, D) containing testing data;\n",
    "                N examples with D dimensions\n",
    "        Returns:\n",
    "            predicted labels for the data in X_test; a 1-dimensional array of\n",
    "                length N, where each element is an integer giving the predicted\n",
    "                class.\n",
    "        \"\"\"\n",
    "        N, D = X_test.shape\n",
    "        y_test = np.zeros(N)\n",
    "        ###### YOUR CODE STARTS HERE ######\n",
    "        l_o=np.dot(X_test, self.w)+self.bias\n",
    "        y_test = self.activation_func(l_o)\n",
    "\n",
    "        \n",
    "        ###### YOUR CODE ENDS HERE ######\n",
    "        return y_test\n",
    "\n",
    "    def _unit_step_func(self, x):\n",
    "        return np.where(x>=0, 1, 0)"
   ]
  },
  {
   "cell_type": "markdown",
   "metadata": {
    "id": "Tjc80ISp_bYK"
   },
   "source": []
  },
  {
   "cell_type": "markdown",
   "metadata": {
    "id": "_14_VVHhpZon"
   },
   "source": [
    "## Train Perceptron on CIFAR"
   ]
  },
  {
   "cell_type": "code",
   "execution_count": 56,
   "metadata": {
    "colab": {
     "base_uri": "https://localhost:8080/",
     "height": 339
    },
    "collapsed": true,
    "id": "7DG8rY9ApZon",
    "outputId": "20adac9b-2017-4fca-da82-76d7a041b26c"
   },
   "outputs": [
    {
     "ename": "AttributeError",
     "evalue": "'Perceptron' object has no attribute 'n_iters'",
     "output_type": "error",
     "traceback": [
      "\u001b[0;31m---------------------------------------------------------------------------\u001b[0m",
      "\u001b[0;31mAttributeError\u001b[0m                            Traceback (most recent call last)",
      "\u001b[0;32m/var/folders/fw/cxj36c7j5t9g1vd7yw1sdtxh0000gn/T/ipykernel_8533/3979839743.py\u001b[0m in \u001b[0;36m<module>\u001b[0;34m\u001b[0m\n\u001b[1;32m      4\u001b[0m \u001b[0;34m\u001b[0m\u001b[0m\n\u001b[1;32m      5\u001b[0m \u001b[0mpercept_CIFAR\u001b[0m \u001b[0;34m=\u001b[0m \u001b[0mPerceptron\u001b[0m\u001b[0;34m(\u001b[0m\u001b[0mn_class_CIFAR\u001b[0m\u001b[0;34m,\u001b[0m \u001b[0mlr\u001b[0m\u001b[0;34m,\u001b[0m \u001b[0mn_epochs\u001b[0m\u001b[0;34m)\u001b[0m\u001b[0;34m\u001b[0m\u001b[0;34m\u001b[0m\u001b[0m\n\u001b[0;32m----> 6\u001b[0;31m \u001b[0mpercept_CIFAR\u001b[0m\u001b[0;34m.\u001b[0m\u001b[0mtrain\u001b[0m\u001b[0;34m(\u001b[0m\u001b[0mX_train_CIFAR\u001b[0m\u001b[0;34m,\u001b[0m \u001b[0my_train_CIFAR\u001b[0m\u001b[0;34m)\u001b[0m\u001b[0;34m\u001b[0m\u001b[0;34m\u001b[0m\u001b[0m\n\u001b[0m",
      "\u001b[0;32m/var/folders/fw/cxj36c7j5t9g1vd7yw1sdtxh0000gn/T/ipykernel_8533/3608788855.py\u001b[0m in \u001b[0;36mtrain\u001b[0;34m(self, X_train, y_train)\u001b[0m\n\u001b[1;32m     31\u001b[0m         \u001b[0;31m###### YOUR CODE STARTS HERE ######\u001b[0m\u001b[0;34m\u001b[0m\u001b[0;34m\u001b[0m\u001b[0;34m\u001b[0m\u001b[0m\n\u001b[1;32m     32\u001b[0m         \u001b[0my_\u001b[0m\u001b[0;34m=\u001b[0m\u001b[0mnp\u001b[0m\u001b[0;34m.\u001b[0m\u001b[0marray\u001b[0m\u001b[0;34m(\u001b[0m\u001b[0;34m[\u001b[0m\u001b[0;36m1\u001b[0m \u001b[0;32mif\u001b[0m \u001b[0mi\u001b[0m\u001b[0;34m>\u001b[0m\u001b[0;36m0\u001b[0m \u001b[0;32melse\u001b[0m \u001b[0;36m0\u001b[0m \u001b[0;32mfor\u001b[0m \u001b[0mi\u001b[0m \u001b[0;32min\u001b[0m \u001b[0my_train\u001b[0m\u001b[0;34m]\u001b[0m\u001b[0;34m)\u001b[0m\u001b[0;34m\u001b[0m\u001b[0;34m\u001b[0m\u001b[0m\n\u001b[0;32m---> 33\u001b[0;31m         \u001b[0;32mfor\u001b[0m \u001b[0m_\u001b[0m \u001b[0;32min\u001b[0m \u001b[0mrange\u001b[0m\u001b[0;34m(\u001b[0m\u001b[0mself\u001b[0m\u001b[0;34m.\u001b[0m\u001b[0mn_iters\u001b[0m\u001b[0;34m)\u001b[0m\u001b[0;34m:\u001b[0m\u001b[0;34m\u001b[0m\u001b[0;34m\u001b[0m\u001b[0m\n\u001b[0m\u001b[1;32m     34\u001b[0m             \u001b[0;32mfor\u001b[0m \u001b[0midx\u001b[0m\u001b[0;34m,\u001b[0m \u001b[0mx_i\u001b[0m \u001b[0;32min\u001b[0m \u001b[0menumerate\u001b[0m\u001b[0;34m(\u001b[0m\u001b[0mX_train\u001b[0m\u001b[0;34m)\u001b[0m\u001b[0;34m:\u001b[0m\u001b[0;34m\u001b[0m\u001b[0;34m\u001b[0m\u001b[0m\n\u001b[1;32m     35\u001b[0m                 \u001b[0ml_o\u001b[0m\u001b[0;34m=\u001b[0m\u001b[0mnp\u001b[0m\u001b[0;34m.\u001b[0m\u001b[0mdot\u001b[0m\u001b[0;34m(\u001b[0m\u001b[0mx_i\u001b[0m\u001b[0;34m,\u001b[0m \u001b[0mself\u001b[0m\u001b[0;34m.\u001b[0m\u001b[0mw\u001b[0m\u001b[0;34m)\u001b[0m\u001b[0;34m+\u001b[0m\u001b[0mself\u001b[0m\u001b[0;34m.\u001b[0m\u001b[0mbias\u001b[0m\u001b[0;34m\u001b[0m\u001b[0;34m\u001b[0m\u001b[0m\n",
      "\u001b[0;31mAttributeError\u001b[0m: 'Perceptron' object has no attribute 'n_iters'"
     ]
    }
   ],
   "source": [
    "lr = 0.5\n",
    "n_epochs = 50\n",
    "n_class_CIFAR = 10\n",
    "\n",
    "percept_CIFAR = Perceptron(n_class_CIFAR, lr, n_epochs)\n",
    "percept_CIFAR.train(X_train_CIFAR, y_train_CIFAR)"
   ]
  },
  {
   "cell_type": "code",
   "execution_count": 57,
   "metadata": {
    "collapsed": true,
    "id": "3A_8NAEJpZon"
   },
   "outputs": [
    {
     "ename": "ValueError",
     "evalue": "shapes (40000,3072) and (10,3072) not aligned: 3072 (dim 1) != 10 (dim 0)",
     "output_type": "error",
     "traceback": [
      "\u001b[0;31m---------------------------------------------------------------------------\u001b[0m",
      "\u001b[0;31mValueError\u001b[0m                                Traceback (most recent call last)",
      "\u001b[0;32m/var/folders/fw/cxj36c7j5t9g1vd7yw1sdtxh0000gn/T/ipykernel_8533/1903334046.py\u001b[0m in \u001b[0;36m<module>\u001b[0;34m\u001b[0m\n\u001b[0;32m----> 1\u001b[0;31m \u001b[0mpred_percept\u001b[0m \u001b[0;34m=\u001b[0m \u001b[0mpercept_CIFAR\u001b[0m\u001b[0;34m.\u001b[0m\u001b[0mpredict\u001b[0m\u001b[0;34m(\u001b[0m\u001b[0mX_train_CIFAR\u001b[0m\u001b[0;34m)\u001b[0m\u001b[0;34m\u001b[0m\u001b[0;34m\u001b[0m\u001b[0m\n\u001b[0m\u001b[1;32m      2\u001b[0m \u001b[0mprint\u001b[0m\u001b[0;34m(\u001b[0m\u001b[0;34m'The training accuracy is given by: %f'\u001b[0m \u001b[0;34m%\u001b[0m \u001b[0;34m(\u001b[0m\u001b[0mget_acc\u001b[0m\u001b[0;34m(\u001b[0m\u001b[0mpred_percept\u001b[0m\u001b[0;34m,\u001b[0m \u001b[0my_train_CIFAR\u001b[0m\u001b[0;34m)\u001b[0m\u001b[0;34m)\u001b[0m\u001b[0;34m)\u001b[0m\u001b[0;34m\u001b[0m\u001b[0;34m\u001b[0m\u001b[0m\n",
      "\u001b[0;32m/var/folders/fw/cxj36c7j5t9g1vd7yw1sdtxh0000gn/T/ipykernel_8533/3608788855.py\u001b[0m in \u001b[0;36mpredict\u001b[0;34m(self, X_test)\u001b[0m\n\u001b[1;32m     53\u001b[0m         \u001b[0my_test\u001b[0m \u001b[0;34m=\u001b[0m \u001b[0mnp\u001b[0m\u001b[0;34m.\u001b[0m\u001b[0mzeros\u001b[0m\u001b[0;34m(\u001b[0m\u001b[0mN\u001b[0m\u001b[0;34m)\u001b[0m\u001b[0;34m\u001b[0m\u001b[0;34m\u001b[0m\u001b[0m\n\u001b[1;32m     54\u001b[0m         \u001b[0;31m###### YOUR CODE STARTS HERE ######\u001b[0m\u001b[0;34m\u001b[0m\u001b[0;34m\u001b[0m\u001b[0;34m\u001b[0m\u001b[0m\n\u001b[0;32m---> 55\u001b[0;31m         \u001b[0ml_o\u001b[0m\u001b[0;34m=\u001b[0m\u001b[0mnp\u001b[0m\u001b[0;34m.\u001b[0m\u001b[0mdot\u001b[0m\u001b[0;34m(\u001b[0m\u001b[0mX_test\u001b[0m\u001b[0;34m,\u001b[0m \u001b[0mself\u001b[0m\u001b[0;34m.\u001b[0m\u001b[0mw\u001b[0m\u001b[0;34m)\u001b[0m\u001b[0;34m+\u001b[0m\u001b[0mself\u001b[0m\u001b[0;34m.\u001b[0m\u001b[0mbias\u001b[0m\u001b[0;34m\u001b[0m\u001b[0;34m\u001b[0m\u001b[0m\n\u001b[0m\u001b[1;32m     56\u001b[0m         \u001b[0my_test\u001b[0m \u001b[0;34m=\u001b[0m \u001b[0mself\u001b[0m\u001b[0;34m.\u001b[0m\u001b[0mactivation_func\u001b[0m\u001b[0;34m(\u001b[0m\u001b[0ml_o\u001b[0m\u001b[0;34m)\u001b[0m\u001b[0;34m\u001b[0m\u001b[0;34m\u001b[0m\u001b[0m\n\u001b[1;32m     57\u001b[0m \u001b[0;34m\u001b[0m\u001b[0m\n",
      "\u001b[0;32m~/opt/anaconda3/envs/Into2DeepLearning/lib/python3.8/site-packages/numpy/core/overrides.py\u001b[0m in \u001b[0;36mdot\u001b[0;34m(*args, **kwargs)\u001b[0m\n",
      "\u001b[0;31mValueError\u001b[0m: shapes (40000,3072) and (10,3072) not aligned: 3072 (dim 1) != 10 (dim 0)"
     ]
    }
   ],
   "source": [
    "pred_percept = percept_CIFAR.predict(X_train_CIFAR)\n",
    "print('The training accuracy is given by: %f' % (get_acc(pred_percept, y_train_CIFAR)))"
   ]
  },
  {
   "cell_type": "markdown",
   "metadata": {
    "id": "JPoG32Y0pZon"
   },
   "source": [
    "### Validate Perceptron on CIFAR"
   ]
  },
  {
   "cell_type": "code",
   "execution_count": 58,
   "metadata": {
    "collapsed": true,
    "id": "INpI-9fVpZon"
   },
   "outputs": [
    {
     "ename": "ValueError",
     "evalue": "shapes (10000,3072) and (10,3072) not aligned: 3072 (dim 1) != 10 (dim 0)",
     "output_type": "error",
     "traceback": [
      "\u001b[0;31m---------------------------------------------------------------------------\u001b[0m",
      "\u001b[0;31mValueError\u001b[0m                                Traceback (most recent call last)",
      "\u001b[0;32m/var/folders/fw/cxj36c7j5t9g1vd7yw1sdtxh0000gn/T/ipykernel_8533/3473324202.py\u001b[0m in \u001b[0;36m<module>\u001b[0;34m\u001b[0m\n\u001b[0;32m----> 1\u001b[0;31m \u001b[0mpred_percept\u001b[0m \u001b[0;34m=\u001b[0m \u001b[0mpercept_CIFAR\u001b[0m\u001b[0;34m.\u001b[0m\u001b[0mpredict\u001b[0m\u001b[0;34m(\u001b[0m\u001b[0mX_val_CIFAR\u001b[0m\u001b[0;34m)\u001b[0m\u001b[0;34m\u001b[0m\u001b[0;34m\u001b[0m\u001b[0m\n\u001b[0m\u001b[1;32m      2\u001b[0m \u001b[0mprint\u001b[0m\u001b[0;34m(\u001b[0m\u001b[0;34m'The validation accuracy is given by: %f'\u001b[0m \u001b[0;34m%\u001b[0m \u001b[0;34m(\u001b[0m\u001b[0mget_acc\u001b[0m\u001b[0;34m(\u001b[0m\u001b[0mpred_percept\u001b[0m\u001b[0;34m,\u001b[0m \u001b[0my_val_CIFAR\u001b[0m\u001b[0;34m)\u001b[0m\u001b[0;34m)\u001b[0m\u001b[0;34m)\u001b[0m\u001b[0;34m\u001b[0m\u001b[0;34m\u001b[0m\u001b[0m\n",
      "\u001b[0;32m/var/folders/fw/cxj36c7j5t9g1vd7yw1sdtxh0000gn/T/ipykernel_8533/3608788855.py\u001b[0m in \u001b[0;36mpredict\u001b[0;34m(self, X_test)\u001b[0m\n\u001b[1;32m     53\u001b[0m         \u001b[0my_test\u001b[0m \u001b[0;34m=\u001b[0m \u001b[0mnp\u001b[0m\u001b[0;34m.\u001b[0m\u001b[0mzeros\u001b[0m\u001b[0;34m(\u001b[0m\u001b[0mN\u001b[0m\u001b[0;34m)\u001b[0m\u001b[0;34m\u001b[0m\u001b[0;34m\u001b[0m\u001b[0m\n\u001b[1;32m     54\u001b[0m         \u001b[0;31m###### YOUR CODE STARTS HERE ######\u001b[0m\u001b[0;34m\u001b[0m\u001b[0;34m\u001b[0m\u001b[0;34m\u001b[0m\u001b[0m\n\u001b[0;32m---> 55\u001b[0;31m         \u001b[0ml_o\u001b[0m\u001b[0;34m=\u001b[0m\u001b[0mnp\u001b[0m\u001b[0;34m.\u001b[0m\u001b[0mdot\u001b[0m\u001b[0;34m(\u001b[0m\u001b[0mX_test\u001b[0m\u001b[0;34m,\u001b[0m \u001b[0mself\u001b[0m\u001b[0;34m.\u001b[0m\u001b[0mw\u001b[0m\u001b[0;34m)\u001b[0m\u001b[0;34m+\u001b[0m\u001b[0mself\u001b[0m\u001b[0;34m.\u001b[0m\u001b[0mbias\u001b[0m\u001b[0;34m\u001b[0m\u001b[0;34m\u001b[0m\u001b[0m\n\u001b[0m\u001b[1;32m     56\u001b[0m         \u001b[0my_test\u001b[0m \u001b[0;34m=\u001b[0m \u001b[0mself\u001b[0m\u001b[0;34m.\u001b[0m\u001b[0mactivation_func\u001b[0m\u001b[0;34m(\u001b[0m\u001b[0ml_o\u001b[0m\u001b[0;34m)\u001b[0m\u001b[0;34m\u001b[0m\u001b[0;34m\u001b[0m\u001b[0m\n\u001b[1;32m     57\u001b[0m \u001b[0;34m\u001b[0m\u001b[0m\n",
      "\u001b[0;32m~/opt/anaconda3/envs/Into2DeepLearning/lib/python3.8/site-packages/numpy/core/overrides.py\u001b[0m in \u001b[0;36mdot\u001b[0;34m(*args, **kwargs)\u001b[0m\n",
      "\u001b[0;31mValueError\u001b[0m: shapes (10000,3072) and (10,3072) not aligned: 3072 (dim 1) != 10 (dim 0)"
     ]
    }
   ],
   "source": [
    "pred_percept = percept_CIFAR.predict(X_val_CIFAR)\n",
    "print('The validation accuracy is given by: %f' % (get_acc(pred_percept, y_val_CIFAR)))"
   ]
  },
  {
   "cell_type": "markdown",
   "metadata": {
    "id": "LitUu8g0pZoo"
   },
   "source": [
    "### Test Perceptron on CIFAR"
   ]
  },
  {
   "cell_type": "code",
   "execution_count": 59,
   "metadata": {
    "collapsed": true,
    "id": "CLB5yeeTpZoo"
   },
   "outputs": [
    {
     "ename": "ValueError",
     "evalue": "shapes (10000,3072) and (10,3072) not aligned: 3072 (dim 1) != 10 (dim 0)",
     "output_type": "error",
     "traceback": [
      "\u001b[0;31m---------------------------------------------------------------------------\u001b[0m",
      "\u001b[0;31mValueError\u001b[0m                                Traceback (most recent call last)",
      "\u001b[0;32m/var/folders/fw/cxj36c7j5t9g1vd7yw1sdtxh0000gn/T/ipykernel_8533/2133235364.py\u001b[0m in \u001b[0;36m<module>\u001b[0;34m\u001b[0m\n\u001b[0;32m----> 1\u001b[0;31m \u001b[0mpred_percept\u001b[0m \u001b[0;34m=\u001b[0m \u001b[0mpercept_CIFAR\u001b[0m\u001b[0;34m.\u001b[0m\u001b[0mpredict\u001b[0m\u001b[0;34m(\u001b[0m\u001b[0mX_test_CIFAR\u001b[0m\u001b[0;34m)\u001b[0m\u001b[0;34m\u001b[0m\u001b[0;34m\u001b[0m\u001b[0m\n\u001b[0m\u001b[1;32m      2\u001b[0m \u001b[0mprint\u001b[0m\u001b[0;34m(\u001b[0m\u001b[0;34m'The testing accuracy is given by: %f'\u001b[0m \u001b[0;34m%\u001b[0m \u001b[0;34m(\u001b[0m\u001b[0mget_acc\u001b[0m\u001b[0;34m(\u001b[0m\u001b[0mpred_percept\u001b[0m\u001b[0;34m,\u001b[0m \u001b[0my_test_CIFAR\u001b[0m\u001b[0;34m)\u001b[0m\u001b[0;34m)\u001b[0m\u001b[0;34m)\u001b[0m\u001b[0;34m\u001b[0m\u001b[0;34m\u001b[0m\u001b[0m\n",
      "\u001b[0;32m/var/folders/fw/cxj36c7j5t9g1vd7yw1sdtxh0000gn/T/ipykernel_8533/3608788855.py\u001b[0m in \u001b[0;36mpredict\u001b[0;34m(self, X_test)\u001b[0m\n\u001b[1;32m     53\u001b[0m         \u001b[0my_test\u001b[0m \u001b[0;34m=\u001b[0m \u001b[0mnp\u001b[0m\u001b[0;34m.\u001b[0m\u001b[0mzeros\u001b[0m\u001b[0;34m(\u001b[0m\u001b[0mN\u001b[0m\u001b[0;34m)\u001b[0m\u001b[0;34m\u001b[0m\u001b[0;34m\u001b[0m\u001b[0m\n\u001b[1;32m     54\u001b[0m         \u001b[0;31m###### YOUR CODE STARTS HERE ######\u001b[0m\u001b[0;34m\u001b[0m\u001b[0;34m\u001b[0m\u001b[0;34m\u001b[0m\u001b[0m\n\u001b[0;32m---> 55\u001b[0;31m         \u001b[0ml_o\u001b[0m\u001b[0;34m=\u001b[0m\u001b[0mnp\u001b[0m\u001b[0;34m.\u001b[0m\u001b[0mdot\u001b[0m\u001b[0;34m(\u001b[0m\u001b[0mX_test\u001b[0m\u001b[0;34m,\u001b[0m \u001b[0mself\u001b[0m\u001b[0;34m.\u001b[0m\u001b[0mw\u001b[0m\u001b[0;34m)\u001b[0m\u001b[0;34m+\u001b[0m\u001b[0mself\u001b[0m\u001b[0;34m.\u001b[0m\u001b[0mbias\u001b[0m\u001b[0;34m\u001b[0m\u001b[0;34m\u001b[0m\u001b[0m\n\u001b[0m\u001b[1;32m     56\u001b[0m         \u001b[0my_test\u001b[0m \u001b[0;34m=\u001b[0m \u001b[0mself\u001b[0m\u001b[0;34m.\u001b[0m\u001b[0mactivation_func\u001b[0m\u001b[0;34m(\u001b[0m\u001b[0ml_o\u001b[0m\u001b[0;34m)\u001b[0m\u001b[0;34m\u001b[0m\u001b[0;34m\u001b[0m\u001b[0m\n\u001b[1;32m     57\u001b[0m \u001b[0;34m\u001b[0m\u001b[0m\n",
      "\u001b[0;32m~/opt/anaconda3/envs/Into2DeepLearning/lib/python3.8/site-packages/numpy/core/overrides.py\u001b[0m in \u001b[0;36mdot\u001b[0;34m(*args, **kwargs)\u001b[0m\n",
      "\u001b[0;31mValueError\u001b[0m: shapes (10000,3072) and (10,3072) not aligned: 3072 (dim 1) != 10 (dim 0)"
     ]
    }
   ],
   "source": [
    "pred_percept = percept_CIFAR.predict(X_test_CIFAR)\n",
    "print('The testing accuracy is given by: %f' % (get_acc(pred_percept, y_test_CIFAR)))"
   ]
  },
  {
   "cell_type": "code",
   "execution_count": 60,
   "metadata": {
    "collapsed": true,
    "id": "c1OHdRVepZoo"
   },
   "outputs": [
    {
     "ename": "ValueError",
     "evalue": "shapes (10000,3072) and (10,3072) not aligned: 3072 (dim 1) != 10 (dim 0)",
     "output_type": "error",
     "traceback": [
      "\u001b[0;31m---------------------------------------------------------------------------\u001b[0m",
      "\u001b[0;31mValueError\u001b[0m                                Traceback (most recent call last)",
      "\u001b[0;32m/var/folders/fw/cxj36c7j5t9g1vd7yw1sdtxh0000gn/T/ipykernel_8533/4089202621.py\u001b[0m in \u001b[0;36m<module>\u001b[0;34m\u001b[0m\n\u001b[0;32m----> 1\u001b[0;31m \u001b[0moutput_submission_csv\u001b[0m\u001b[0;34m(\u001b[0m\u001b[0;34m'output/Logistic_submission_CIFAR.csv'\u001b[0m\u001b[0;34m,\u001b[0m \u001b[0mpercept_CIFAR\u001b[0m\u001b[0;34m.\u001b[0m\u001b[0mpredict\u001b[0m\u001b[0;34m(\u001b[0m\u001b[0mX_test_CIFAR\u001b[0m\u001b[0;34m)\u001b[0m\u001b[0;34m)\u001b[0m\u001b[0;34m\u001b[0m\u001b[0;34m\u001b[0m\u001b[0m\n\u001b[0m",
      "\u001b[0;32m/var/folders/fw/cxj36c7j5t9g1vd7yw1sdtxh0000gn/T/ipykernel_8533/3608788855.py\u001b[0m in \u001b[0;36mpredict\u001b[0;34m(self, X_test)\u001b[0m\n\u001b[1;32m     53\u001b[0m         \u001b[0my_test\u001b[0m \u001b[0;34m=\u001b[0m \u001b[0mnp\u001b[0m\u001b[0;34m.\u001b[0m\u001b[0mzeros\u001b[0m\u001b[0;34m(\u001b[0m\u001b[0mN\u001b[0m\u001b[0;34m)\u001b[0m\u001b[0;34m\u001b[0m\u001b[0;34m\u001b[0m\u001b[0m\n\u001b[1;32m     54\u001b[0m         \u001b[0;31m###### YOUR CODE STARTS HERE ######\u001b[0m\u001b[0;34m\u001b[0m\u001b[0;34m\u001b[0m\u001b[0;34m\u001b[0m\u001b[0m\n\u001b[0;32m---> 55\u001b[0;31m         \u001b[0ml_o\u001b[0m\u001b[0;34m=\u001b[0m\u001b[0mnp\u001b[0m\u001b[0;34m.\u001b[0m\u001b[0mdot\u001b[0m\u001b[0;34m(\u001b[0m\u001b[0mX_test\u001b[0m\u001b[0;34m,\u001b[0m \u001b[0mself\u001b[0m\u001b[0;34m.\u001b[0m\u001b[0mw\u001b[0m\u001b[0;34m)\u001b[0m\u001b[0;34m+\u001b[0m\u001b[0mself\u001b[0m\u001b[0;34m.\u001b[0m\u001b[0mbias\u001b[0m\u001b[0;34m\u001b[0m\u001b[0;34m\u001b[0m\u001b[0m\n\u001b[0m\u001b[1;32m     56\u001b[0m         \u001b[0my_test\u001b[0m \u001b[0;34m=\u001b[0m \u001b[0mself\u001b[0m\u001b[0;34m.\u001b[0m\u001b[0mactivation_func\u001b[0m\u001b[0;34m(\u001b[0m\u001b[0ml_o\u001b[0m\u001b[0;34m)\u001b[0m\u001b[0;34m\u001b[0m\u001b[0;34m\u001b[0m\u001b[0m\n\u001b[1;32m     57\u001b[0m \u001b[0;34m\u001b[0m\u001b[0m\n",
      "\u001b[0;32m~/opt/anaconda3/envs/Into2DeepLearning/lib/python3.8/site-packages/numpy/core/overrides.py\u001b[0m in \u001b[0;36mdot\u001b[0;34m(*args, **kwargs)\u001b[0m\n",
      "\u001b[0;31mValueError\u001b[0m: shapes (10000,3072) and (10,3072) not aligned: 3072 (dim 1) != 10 (dim 0)"
     ]
    }
   ],
   "source": [
    "output_submission_csv('output/Logistic_submission_CIFAR.csv', percept_CIFAR.predict(X_test_CIFAR))"
   ]
  },
  {
   "cell_type": "markdown",
   "metadata": {
    "id": "_m0DUX0FpZoo"
   },
   "source": [
    "# Logistic Classifier"
   ]
  },
  {
   "cell_type": "markdown",
   "metadata": {
    "id": "t4y4gKDvpZop"
   },
   "source": [
    "The Logistic Classifier has 2 hyperparameters that you can experiment with:\n",
    "- **Learning rate** - similar to as defined above in Perceptron, this parameter scales by how much the weights are changed according to the calculated gradient update. \n",
    "- **Number of Epochs** - As described for perceptron.\n",
    "\n"
   ]
  },
  {
   "cell_type": "markdown",
   "metadata": {
    "id": "aeyJ7sYNpZop"
   },
   "source": [
    "\n",
    "The following code: \n",
    "- Creates an instance of the Logistic classifier class \n",
    "- The train function of the Logistic class is trained on the training data\n",
    "- We use the predict function to find the training accuracy as well as the testing accuracy"
   ]
  },
  {
   "cell_type": "code",
   "execution_count": 61,
   "metadata": {
    "id": "7ytp9mU2pZop"
   },
   "outputs": [],
   "source": [
    "\"\"\"Logistic regression model.\"\"\"\n",
    "\n",
    "import numpy as np\n",
    "from numpy import log, dot\n",
    "import math\n",
    "\n",
    "\n",
    "class Logistic:\n",
    "    def __init__(self, lr: float, epochs: int):\n",
    "        \"\"\"Initialize a new classifier.\n",
    "        Parameters:\n",
    "            lr: the learning rate\n",
    "            epochs: the number of epochs to train for\n",
    "        \"\"\"\n",
    "        self.w = 1\n",
    "        self.lr = lr\n",
    "        self.epochs = epochs\n",
    "        self.threshold = 0.5\n",
    "\n",
    "    def sigmoid(self, z: np.ndarray) -> np.ndarray:\n",
    "        \"\"\"Sigmoid function.\n",
    "        Parameters:\n",
    "            z: the input\n",
    "        Returns:\n",
    "            the sigmoid of the input\n",
    "        \"\"\"\n",
    "        ##### YOUR CODE STARTS HERE #####\n",
    "        ret = 1/(1+np.exp(-z))\n",
    "        \n",
    "        ##### YOUR CODE ENDS HERE #####\n",
    "        return ret\n",
    "\n",
    "    def cost_function(self, X, y, weights):\n",
    "        z=dot(X, weights)\n",
    "        predict_1 = y * log(self.sigmoid(z))\n",
    "        predict_0 = (1-y)* log(1-self.sigmoid(z))\n",
    "        return -sum(predict_1 + predict_0)/ len(X)\n",
    "\n",
    "    def train(self, X_train: np.ndarray, y_train: np.ndarray):\n",
    "        \"\"\"Train the classifier.\n",
    "        Use the logistic regression update rule as introduced in lecture.\n",
    "        Parameters:\n",
    "            X_train: a numpy array of shape (N, D) containing training data;\n",
    "                N examples with D dimensions\n",
    "            y_train: a numpy array of shape (N,) containing training labels\n",
    "        \"\"\"\n",
    "        N, D = X_train.shape\n",
    "        loss=[]\n",
    "        w=np.random.randn(X_train.shape[1])\n",
    "        #self.w = np.random.randn(1, D)\n",
    "        N=len(X_train)\n",
    "\n",
    "        ##### YOUR CODE STARTS HERE #####\n",
    "        \n",
    "        for i in range(self.epochs):\n",
    "            y_hat=self.sigmoid(dot(X_train, w))\n",
    "            w-=self.lr*dot(X_train.T, y_hat-y_train)/N\n",
    "            loss.append(self.cost_function(X_train, y_train, w))\n",
    "\n",
    "        self.w=w\n",
    "        self.loss=loss\n",
    "            \n",
    "        ##### YOUR CODE ENDS HERE #####\n",
    "        pass\n",
    "\n",
    "    def predict(self, X_test: np.ndarray) -> np.ndarray:\n",
    "        \"\"\"Use the trained weights to predict labels for test data points.\n",
    "        Parameters:\n",
    "            X_test: a numpy array of shape (N, D) containing testing data;\n",
    "                N examples with D dimensions\n",
    "        Returns:\n",
    "            predicted labels for the data in X_test; a 1-dimensional array of\n",
    "                length N, where each element is an integer giving the predicted\n",
    "                class.\n",
    "        \"\"\"\n",
    "        N, D = X_test.shape\n",
    "        y_test = np.zeros(N)\n",
    "        ##### YOUR CODE STARTS HERE #####\n",
    "        z=dot(X_test, self.w)\n",
    "        y_test=[1 if i >0.7 else 0 for i in self.sigmoid(z)]\n",
    "        ##### YOUR CODE ENDS HERE #####\n",
    "        return y_test"
   ]
  },
  {
   "cell_type": "markdown",
   "metadata": {
    "id": "9d2rj1rDpZoq"
   },
   "source": [
    "### Training Logistic Classifer"
   ]
  },
  {
   "cell_type": "code",
   "execution_count": 62,
   "metadata": {
    "colab": {
     "base_uri": "https://localhost:8080/"
    },
    "id": "50i_5rtTpZoq",
    "outputId": "7d98f299-6d85-4d1a-f485-877b94c74361"
   },
   "outputs": [
    {
     "name": "stderr",
     "output_type": "stream",
     "text": [
      "/var/folders/fw/cxj36c7j5t9g1vd7yw1sdtxh0000gn/T/ipykernel_8533/3369660254.py:28: RuntimeWarning: overflow encountered in exp\n",
      "  ret = 1/(1+np.exp(-z))\n",
      "/var/folders/fw/cxj36c7j5t9g1vd7yw1sdtxh0000gn/T/ipykernel_8533/3369660254.py:35: RuntimeWarning: divide by zero encountered in log\n",
      "  predict_1 = y * log(self.sigmoid(z))\n",
      "/var/folders/fw/cxj36c7j5t9g1vd7yw1sdtxh0000gn/T/ipykernel_8533/3369660254.py:35: RuntimeWarning: invalid value encountered in multiply\n",
      "  predict_1 = y * log(self.sigmoid(z))\n",
      "/var/folders/fw/cxj36c7j5t9g1vd7yw1sdtxh0000gn/T/ipykernel_8533/3369660254.py:36: RuntimeWarning: divide by zero encountered in log\n",
      "  predict_0 = (1-y)* log(1-self.sigmoid(z))\n",
      "/var/folders/fw/cxj36c7j5t9g1vd7yw1sdtxh0000gn/T/ipykernel_8533/3369660254.py:36: RuntimeWarning: invalid value encountered in multiply\n",
      "  predict_0 = (1-y)* log(1-self.sigmoid(z))\n",
      "/var/folders/fw/cxj36c7j5t9g1vd7yw1sdtxh0000gn/T/ipykernel_8533/3369660254.py:37: RuntimeWarning: invalid value encountered in double_scalars\n",
      "  return -sum(predict_1 + predict_0)/ len(X)\n"
     ]
    }
   ],
   "source": [
    "learning_rate =0.6\n",
    "n_epochs =50\n",
    "\n",
    "lr = Logistic(learning_rate, n_epochs)\n",
    "lr.train(X_train_CIFAR, y_train_CIFAR)"
   ]
  },
  {
   "cell_type": "code",
   "execution_count": 63,
   "metadata": {
    "colab": {
     "base_uri": "https://localhost:8080/"
    },
    "id": "W1lLs2WDpZoq",
    "outputId": "3eec86b5-f676-4b91-8415-04e37b6eaa27"
   },
   "outputs": [
    {
     "name": "stdout",
     "output_type": "stream",
     "text": [
      "The training accuracy is given by: 12.140000\n"
     ]
    },
    {
     "name": "stderr",
     "output_type": "stream",
     "text": [
      "/var/folders/fw/cxj36c7j5t9g1vd7yw1sdtxh0000gn/T/ipykernel_8533/3369660254.py:28: RuntimeWarning: overflow encountered in exp\n",
      "  ret = 1/(1+np.exp(-z))\n"
     ]
    }
   ],
   "source": [
    "pred_lr = lr.predict(X_train_CIFAR)\n",
    "print('The training accuracy is given by: %f' % (get_acc(pred_lr, y_train_CIFAR)))"
   ]
  },
  {
   "cell_type": "markdown",
   "metadata": {
    "id": "pUausyFqpZoq"
   },
   "source": [
    "### Validate Logistic Classifer"
   ]
  },
  {
   "cell_type": "code",
   "execution_count": 64,
   "metadata": {
    "colab": {
     "base_uri": "https://localhost:8080/"
    },
    "id": "IRdo75_FpZoq",
    "outputId": "1ac0d28b-3766-4f6e-9009-520125237015"
   },
   "outputs": [
    {
     "name": "stdout",
     "output_type": "stream",
     "text": [
      "The validation accuracy is given by: 12.170000\n"
     ]
    },
    {
     "name": "stderr",
     "output_type": "stream",
     "text": [
      "/var/folders/fw/cxj36c7j5t9g1vd7yw1sdtxh0000gn/T/ipykernel_8533/3369660254.py:28: RuntimeWarning: overflow encountered in exp\n",
      "  ret = 1/(1+np.exp(-z))\n"
     ]
    }
   ],
   "source": [
    "pred_lr = lr.predict(X_val_CIFAR)\n",
    "print('The validation accuracy is given by: %f' % (get_acc(pred_lr, y_val_CIFAR)))"
   ]
  },
  {
   "cell_type": "markdown",
   "metadata": {
    "id": "YWgfQuZypZoq"
   },
   "source": [
    "### Test Logistic Classifier"
   ]
  },
  {
   "cell_type": "code",
   "execution_count": 66,
   "metadata": {
    "colab": {
     "base_uri": "https://localhost:8080/"
    },
    "id": "OiCWJRAypZor",
    "outputId": "5433eab5-a6f5-4f7d-cd64-0a0066ee338e"
   },
   "outputs": [
    {
     "name": "stdout",
     "output_type": "stream",
     "text": [
      "The testing accuracy is given by: 12.430000\n"
     ]
    },
    {
     "name": "stderr",
     "output_type": "stream",
     "text": [
      "/var/folders/fw/cxj36c7j5t9g1vd7yw1sdtxh0000gn/T/ipykernel_8533/3369660254.py:28: RuntimeWarning: overflow encountered in exp\n",
      "  ret = 1/(1+np.exp(-z))\n"
     ]
    }
   ],
   "source": [
    "pred_lr = lr.predict(X_test_CIFAR)\n",
    "print('The testing accuracy is given by: %f' % (get_acc(pred_lr, y_test_CIFAR)))\n",
    "output_submission_csv('output/Logistic_submission_CIFAR.csv', lr.predict(X_test_CIFAR))"
   ]
  }
 ],
 "metadata": {
  "colab": {
   "collapsed_sections": [],
   "name": "code_assignment.ipynb",
   "provenance": []
  },
  "kernelspec": {
   "display_name": "Python 3 (ipykernel)",
   "language": "python",
   "name": "python3"
  },
  "language_info": {
   "codemirror_mode": {
    "name": "ipython",
    "version": 3
   },
   "file_extension": ".py",
   "mimetype": "text/x-python",
   "name": "python",
   "nbconvert_exporter": "python",
   "pygments_lexer": "ipython3",
   "version": "3.8.12"
  }
 },
 "nbformat": 4,
 "nbformat_minor": 1
}
